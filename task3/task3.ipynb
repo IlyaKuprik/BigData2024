{
 "cells": [
  {
   "cell_type": "code",
   "execution_count": 1,
   "metadata": {},
   "outputs": [
    {
     "name": "stderr",
     "output_type": "stream",
     "text": [
      "Setting default log level to \"WARN\".\n",
      "To adjust logging level use sc.setLogLevel(newLevel). For SparkR, use setLogLevel(newLevel).\n",
      "24/07/03 13:02:19 WARN NativeCodeLoader: Unable to load native-hadoop library for your platform... using builtin-java classes where applicable\n"
     ]
    }
   ],
   "source": [
    "import re\n",
    "from pyspark.sql import SparkSession\n",
    "from pyspark.sql.functions import col, explode, split, lower, length, regexp_extract\n",
    "\n",
    "# Создание сессии Spark\n",
    "spark = SparkSession.builder.appName(\"WikiAnalysis\").getOrCreate()\n"
   ]
  },
  {
   "cell_type": "code",
   "execution_count": 2,
   "metadata": {},
   "outputs": [],
   "source": [
    "df = spark.read.option(\"delimiter\", \"\\t\").csv('wiki.txt', schema=\"url STRING, title STRING, text STRING\")\n",
    "words_df = df.select(explode(split(col(\"text\"), r'\\W+')).alias(\"word\"))\n",
    "words_df = words_df.filter(col(\"word\") != \"\").filter(~col(\"word\").rlike(r'\\d'))"
   ]
  },
  {
   "cell_type": "markdown",
   "metadata": {},
   "source": [
    "### 1. Самое длинное слово"
   ]
  },
  {
   "cell_type": "code",
   "execution_count": 3,
   "metadata": {},
   "outputs": [
    {
     "name": "stderr",
     "output_type": "stream",
     "text": [
      "                                                                                \r"
     ]
    },
    {
     "data": {
      "text/plain": [
       "Row(word='dreihundertvierundsechzigtausendachthundertneunzehn', length=51)"
      ]
     },
     "execution_count": 3,
     "metadata": {},
     "output_type": "execute_result"
    }
   ],
   "source": [
    "words_df.withColumn(\"length\", length(col(\"word\"))).orderBy(col(\"length\").desc()).first()"
   ]
  },
  {
   "cell_type": "markdown",
   "metadata": {},
   "source": [
    "интересный факт который я узнал благодоря этому заданию, это слово переводится как \"триста шестьдесят четыре тысячи восемьсот девятнадцать\". дело в том, что числительные до миллиона в немецком пишутся слитно. "
   ]
  },
  {
   "cell_type": "markdown",
   "metadata": {},
   "source": [
    "### 2. Средняя длина слов\n"
   ]
  },
  {
   "cell_type": "code",
   "execution_count": 4,
   "metadata": {},
   "outputs": [
    {
     "data": {
      "text/plain": [
       "4.374960689351531"
      ]
     },
     "execution_count": 4,
     "metadata": {},
     "output_type": "execute_result"
    }
   ],
   "source": [
    "words_df.withColumn(\"length\", length(col(\"word\"))).agg({\"length\": \"avg\"}).collect()[0][0]"
   ]
  },
  {
   "cell_type": "markdown",
   "metadata": {},
   "source": [
    "### 3. Самое частоупотребляемое слово (латинские буквы)"
   ]
  },
  {
   "cell_type": "code",
   "execution_count": 5,
   "metadata": {},
   "outputs": [
    {
     "data": {
      "text/plain": [
       "Row(word='I', count=4259)"
      ]
     },
     "execution_count": 5,
     "metadata": {},
     "output_type": "execute_result"
    }
   ],
   "source": [
    "latin_words_df = words_df.filter(col(\"word\").rlike(r'^[a-zA-Z]+$'))\n",
    "latin_words_df.groupBy(\"word\").count().orderBy(col(\"count\").desc()).first()"
   ]
  },
  {
   "cell_type": "markdown",
   "metadata": {},
   "source": [
    "### 4. Слова, которые в половине случаев начинаются с большой буквы и встречаются больше 10 раз\n"
   ]
  },
  {
   "cell_type": "code",
   "execution_count": 6,
   "metadata": {},
   "outputs": [
    {
     "name": "stderr",
     "output_type": "stream",
     "text": [
      "                                                                                \r"
     ]
    },
    {
     "data": {
      "text/plain": [
       "['XVII',\n",
       " 'K',\n",
       " 'Heaven',\n",
       " 'Petroleum',\n",
       " 'Warcraft',\n",
       " 'Neue',\n",
       " 'Sabbath',\n",
       " 'Alt',\n",
       " 'DNS',\n",
       " 'Stars',\n",
       " 'Assembler',\n",
       " 'Total',\n",
       " 'Russia',\n",
       " 'VII',\n",
       " 'LTE',\n",
       " 'H2O',\n",
       " 'Services',\n",
       " 'Cr',\n",
       " 'Outlook',\n",
       " 'Slot',\n",
       " 'PC',\n",
       " 'Cl2',\n",
       " 'PGP',\n",
       " 'Telecom',\n",
       " 'International',\n",
       " 'XXVII',\n",
       " 'Te',\n",
       " 'API',\n",
       " 'If',\n",
       " 'Jabber',\n",
       " 'One',\n",
       " 'Water',\n",
       " 'Capital',\n",
       " 'Engine',\n",
       " 'Application',\n",
       " 'World',\n",
       " 'Real',\n",
       " 'NSFNet',\n",
       " 'Technologies',\n",
       " 'Al2O3',\n",
       " 'ARM',\n",
       " 'Nokia',\n",
       " 'Ca',\n",
       " 'Terra',\n",
       " 'Sky',\n",
       " 'Library',\n",
       " 'Principia',\n",
       " 'REXX',\n",
       " 'Data',\n",
       " 'Kit',\n",
       " 'XVI',\n",
       " 'Ernst',\n",
       " 'Le',\n",
       " 'Bank',\n",
       " 'Usenet',\n",
       " 'SO42',\n",
       " 'XMPP',\n",
       " 'Peugeot',\n",
       " 'High',\n",
       " 'ISO',\n",
       " 'James',\n",
       " 'KOI8',\n",
       " 'MHz',\n",
       " 'National',\n",
       " 'Salt',\n",
       " 'FTN',\n",
       " 'POSIX',\n",
       " 'Semiconductor',\n",
       " 'Magic',\n",
       " 'PS',\n",
       " 'Science',\n",
       " 'Delta',\n",
       " 'AM',\n",
       " 'IPv6',\n",
       " 'Source',\n",
       " 'PL',\n",
       " 'Great',\n",
       " 'NH2',\n",
       " 'CaCO3',\n",
       " 'AA',\n",
       " 'MSN',\n",
       " 'FAT32',\n",
       " 'Road',\n",
       " 'TGV',\n",
       " 'Home',\n",
       " 'PO4',\n",
       " 'Little',\n",
       " 'MX',\n",
       " 'Review',\n",
       " 'European',\n",
       " 'Fi',\n",
       " 'SOHO',\n",
       " 'MThd',\n",
       " 'Bell',\n",
       " 'Motor',\n",
       " 'RSS',\n",
       " 'Fe',\n",
       " 'Ogg',\n",
       " 'Films',\n",
       " 'F']"
      ]
     },
     "execution_count": 6,
     "metadata": {},
     "output_type": "execute_result"
    },
    {
     "name": "stderr",
     "output_type": "stream",
     "text": [
      "24/07/03 13:02:30 WARN GarbageCollectionMetrics: To enable non-built-in garbage collector(s) List(G1 Concurrent GC), users should configure it(them) to spark.eventLog.gcMetrics.youngGenerationGarbageCollectors or spark.eventLog.gcMetrics.oldGenerationGarbageCollectors\n"
     ]
    }
   ],
   "source": [
    "from pyspark.sql.types import IntegerType\n",
    "\n",
    "capitalized_words_df = df.select(explode(split(col(\"text\"), r'\\W+')).alias(\"word\"))\n",
    "capitalized_words_df = capitalized_words_df.withColumn(\"is_capitalized\", col(\"word\").rlike(r'^[A-ZА-Я].*').astype(IntegerType()))\n",
    "capitalized_words_stats = capitalized_words_df.groupBy(\"word\")\\\n",
    "    .agg({\"is_capitalized\": \"avg\", \"*\": \"count\"})\\\n",
    "    .where((col(\"avg(is_capitalized)\") > 0.5) & (col(\"count(1)\") > 10))\n",
    "capitalized_words = capitalized_words_stats.select(\"word\").collect()\n",
    "[row[\"word\"] for row in capitalized_words][:100]\n"
   ]
  },
  {
   "cell_type": "markdown",
   "metadata": {},
   "source": [
    "### 5. Устойчивые сокращения вида пр., др."
   ]
  },
  {
   "cell_type": "code",
   "execution_count": null,
   "metadata": {},
   "outputs": [],
   "source": []
  },
  {
   "cell_type": "markdown",
   "metadata": {},
   "source": [
    "### 6. Устойчивые сокращения вида т.п., н.э."
   ]
  },
  {
   "cell_type": "code",
   "execution_count": 7,
   "metadata": {},
   "outputs": [
    {
     "data": {
      "text/plain": [
       "[]"
      ]
     },
     "execution_count": 7,
     "metadata": {},
     "output_type": "execute_result"
    }
   ],
   "source": [
    "names_df = words_df.filter(col(\"word\").rlike(r'\\b[\\wа-яА-Я]\\.[\\wа-яА-Я]\\.\\b'))\n",
    "names_stats = names_df.groupBy(\"word\").count().filter(col(\"count\") > 1).collect()\n",
    "[row[\"word\"] for row in names_stats]"
   ]
  },
  {
   "cell_type": "markdown",
   "metadata": {},
   "source": [
    "### 7. Имена, употребляющиеся в статьях"
   ]
  },
  {
   "cell_type": "code",
   "execution_count": 9,
   "metadata": {},
   "outputs": [
    {
     "data": {
      "text/plain": [
       "['Heaven',\n",
       " 'Petroleum',\n",
       " 'Warcraft',\n",
       " 'Neue',\n",
       " 'Sabbath',\n",
       " 'Alt',\n",
       " 'Stars',\n",
       " 'Assembler',\n",
       " 'Total',\n",
       " 'Russia',\n",
       " 'Services',\n",
       " 'Outlook',\n",
       " 'Slot',\n",
       " 'Telecom',\n",
       " 'International',\n",
       " 'Jabber',\n",
       " 'One',\n",
       " 'Water',\n",
       " 'Capital',\n",
       " 'Engine',\n",
       " 'Application',\n",
       " 'Days',\n",
       " 'World',\n",
       " 'Real',\n",
       " 'Technologies',\n",
       " 'Nokia',\n",
       " 'Steve',\n",
       " 'Terra',\n",
       " 'Sky',\n",
       " 'Aqua',\n",
       " 'Library',\n",
       " 'Principia',\n",
       " 'Data',\n",
       " 'Kit',\n",
       " 'Ernst',\n",
       " 'Bank',\n",
       " 'Blu',\n",
       " 'Usenet',\n",
       " 'Peugeot',\n",
       " 'High',\n",
       " 'James',\n",
       " 'National',\n",
       " 'Salt',\n",
       " 'Semiconductor',\n",
       " 'Magic',\n",
       " 'Science',\n",
       " 'Delta',\n",
       " 'Source',\n",
       " 'Great',\n",
       " 'Zend',\n",
       " 'Road',\n",
       " 'Home',\n",
       " 'Little',\n",
       " 'Review',\n",
       " 'European',\n",
       " 'Bell',\n",
       " 'Motor',\n",
       " 'Compaq',\n",
       " 'Ogg',\n",
       " 'Films',\n",
       " 'Subway',\n",
       " 'Adobe',\n",
       " 'Los',\n",
       " 'Europe',\n",
       " 'Ray',\n",
       " 'Floyd',\n",
       " 'Records',\n",
       " 'Nacional',\n",
       " 'Rail',\n",
       " 'Cyrix',\n",
       " 'Sony',\n",
       " 'Information',\n",
       " 'Art',\n",
       " 'Metal',\n",
       " 'Association',\n",
       " 'Common',\n",
       " 'Networks',\n",
       " 'Orange',\n",
       " 'Commodore',\n",
       " 'Management',\n",
       " 'Box',\n",
       " 'Public',\n",
       " 'France',\n",
       " 'Security',\n",
       " 'Alcatel',\n",
       " 'Motorola',\n",
       " 'Oberverwaltungsgericht',\n",
       " 'Energy',\n",
       " 'Rock',\n",
       " 'Award',\n",
       " 'Computing',\n",
       " 'Hurd',\n",
       " 'Moscow',\n",
       " 'Power',\n",
       " 'Message',\n",
       " 'Velvet',\n",
       " 'Jazz',\n",
       " 'Life',\n",
       " 'Interactive',\n",
       " 'Lake']"
      ]
     },
     "execution_count": 9,
     "metadata": {},
     "output_type": "execute_result"
    }
   ],
   "source": [
    "names_df = words_df.filter(col(\"word\").rlike(r'^[A-ZА-Я][a-zа-я]+$'))\n",
    "names_stats = names_df.filter(length(col('word')) > 2).groupBy(\"word\").count().filter(col(\"count\") > 9).collect()\n",
    "[row[\"word\"] for row in names_stats][:100]"
   ]
  }
 ],
 "metadata": {
  "kernelspec": {
   "display_name": "Python 3",
   "language": "python",
   "name": "python3"
  },
  "language_info": {
   "codemirror_mode": {
    "name": "ipython",
    "version": 3
   },
   "file_extension": ".py",
   "mimetype": "text/x-python",
   "name": "python",
   "nbconvert_exporter": "python",
   "pygments_lexer": "ipython3",
   "version": "3.11.2"
  }
 },
 "nbformat": 4,
 "nbformat_minor": 2
}
