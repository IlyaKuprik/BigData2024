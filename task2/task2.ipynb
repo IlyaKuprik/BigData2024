{
 "cells": [
  {
   "cell_type": "markdown",
   "metadata": {},
   "source": [
    "### Создаем файл с 50000 случайных 32-битных целых чисел"
   ]
  },
  {
   "cell_type": "code",
   "execution_count": 1,
   "metadata": {},
   "outputs": [],
   "source": [
    "import random\n",
    "import time\n",
    "from utils import * # без этого не работает,multiprovessing\n",
    "\n",
    "def generate_file(file_name, count):\n",
    "    with open(file_name, 'w') as f:\n",
    "        for _ in range(count):\n",
    "            f.write(f\"{random.randint(1, 2**31 - 1)}\\n\")\n",
    "\n",
    "\n",
    "generate_file(\"random_numbers.txt\", 50000)"
   ]
  },
  {
   "cell_type": "markdown",
   "metadata": {},
   "source": [
    "### Последовательный подсчет"
   ]
  },
  {
   "cell_type": "code",
   "execution_count": 2,
   "metadata": {},
   "outputs": [
    {
     "name": "stdout",
     "output_type": "stream",
     "text": [
      "Суммарное количество простых множителей: 204597\n",
      "Последовательное выполнение заняло 13.57 секунд\n"
     ]
    }
   ],
   "source": [
    "def count_prime_factors(file_name):\n",
    "    total_factors = 0\n",
    "    with open(file_name, 'r') as f:\n",
    "        for line in f:\n",
    "            num = int(line.strip())\n",
    "            factors = prime_factors(num)\n",
    "            total_factors += len(factors)\n",
    "    return total_factors\n",
    "\n",
    "start_time = time.time()\n",
    "total_factors = count_prime_factors(\"random_numbers.txt\")\n",
    "end_time = time.time()\n",
    "\n",
    "print(f\"Суммарное количество простых множителей: {total_factors}\")\n",
    "print(f\"Последовательное выполнение заняло {end_time - start_time:.2f} секунд\")"
   ]
  },
  {
   "cell_type": "markdown",
   "metadata": {},
   "source": [
    "### Многопоточный подсчет (multiprocessing)"
   ]
  },
  {
   "cell_type": "code",
   "execution_count": 3,
   "metadata": {},
   "outputs": [
    {
     "name": "stdout",
     "output_type": "stream",
     "text": [
      "Суммарное количество простых множителей: 204597\n",
      "Многопоточное выполнение заняло 3.45 секунд\n"
     ]
    }
   ],
   "source": [
    "import multiprocessing\n",
    "from multiprocessing import Pool, Manager\n",
    "\n",
    "def count_prime_factors_parallel(file_name, num_workers):\n",
    "    manager = Manager()\n",
    "    result_list = manager.list()\n",
    "    \n",
    "    with open(file_name, 'r') as f:\n",
    "        numbers = [int(line.strip()) for line in f]\n",
    "\n",
    "    with Pool(num_workers) as pool:\n",
    "        pool.starmap(worker, [(num, result_list) for num in numbers])\n",
    "\n",
    "    return sum(result_list)\n",
    "\n",
    "start_time = time.time()\n",
    "total_factors_parallel = count_prime_factors_parallel(\"random_numbers.txt\", multiprocessing.cpu_count())\n",
    "end_time = time.time()\n",
    "\n",
    "print(f\"Суммарное количество простых множителей: {total_factors_parallel}\")\n",
    "print(f\"Многопоточное выполнение заняло {end_time - start_time:.2f} секунд\")"
   ]
  },
  {
   "cell_type": "markdown",
   "metadata": {},
   "source": [
    "В этот раз с помощью multiprocessing получилось добиться разницы на python."
   ]
  },
  {
   "cell_type": "markdown",
   "metadata": {},
   "source": [
    "### Многопоточный подсчет (PySpark)"
   ]
  },
  {
   "cell_type": "code",
   "execution_count": 4,
   "metadata": {},
   "outputs": [
    {
     "name": "stderr",
     "output_type": "stream",
     "text": [
      "Setting default log level to \"WARN\".\n",
      "To adjust logging level use sc.setLogLevel(newLevel). For SparkR, use setLogLevel(newLevel).\n",
      "24/06/27 23:06:42 WARN NativeCodeLoader: Unable to load native-hadoop library for your platform... using builtin-java classes where applicable\n",
      "24/06/27 23:06:53 WARN GarbageCollectionMetrics: To enable non-built-in garbage collector(s) List(G1 Concurrent GC), users should configure it(them) to spark.eventLog.gcMetrics.youngGenerationGarbageCollectors or spark.eventLog.gcMetrics.oldGenerationGarbageCollectors\n",
      "                                                                                \r"
     ]
    },
    {
     "name": "stdout",
     "output_type": "stream",
     "text": [
      "Суммарное количество простых множителей: 204597\n",
      "Выполнение с PySpark заняло 18.57 секунд\n"
     ]
    }
   ],
   "source": [
    "from pyspark.sql import SparkSession\n",
    "\n",
    "def prime_factors_spark(n):\n",
    "    i = 2\n",
    "    factors = []\n",
    "    while i * i <= n:\n",
    "        if n % i:\n",
    "            i += 1\n",
    "        else:\n",
    "            n //= i\n",
    "            factors.append(i)\n",
    "    if n > 1:\n",
    "        factors.append(n)\n",
    "    return len(factors)\n",
    "\n",
    "def count_prime_factors_pyspark(file_name):\n",
    "    # Создание сессии Spark\n",
    "    spark = SparkSession.builder.appName(\"PrimeFactors\").getOrCreate()\n",
    "\n",
    "    # Загрузка данных\n",
    "    nums_df = spark.read.text(file_name).rdd.map(lambda r: int(r[0]))\n",
    "\n",
    "    # Подсчет простых множителей\n",
    "    total_factors = nums_df.map(prime_factors_spark).sum()\n",
    "\n",
    "    spark.stop()\n",
    "    return total_factors\n",
    "\n",
    "# Выполнение с использованием PySpark\n",
    "start_time = time.time()\n",
    "total_factors_spark = count_prime_factors_pyspark(\"random_numbers.txt\")\n",
    "end_time = time.time()\n",
    "\n",
    "print(f\"Суммарное количество простых множителей: {total_factors_spark}\")\n",
    "print(f\"Выполнение с PySpark заняло {end_time - start_time:.2f} секунд\")"
   ]
  },
  {
   "cell_type": "markdown",
   "metadata": {},
   "source": [
    "Результаты:\n",
    "* Последовательное выполнение заняло 13.57 секунд\n",
    "* Многопоточное выполнение (multiprocesing) заняло 3.45 секунд\n",
    "* Выполнение с PySpark заняло 18.57 секунд"
   ]
  }
 ],
 "metadata": {
  "kernelspec": {
   "display_name": "Python 3",
   "language": "python",
   "name": "python3"
  },
  "language_info": {
   "codemirror_mode": {
    "name": "ipython",
    "version": 3
   },
   "file_extension": ".py",
   "mimetype": "text/x-python",
   "name": "python",
   "nbconvert_exporter": "python",
   "pygments_lexer": "ipython3",
   "version": "3.12.2"
  }
 },
 "nbformat": 4,
 "nbformat_minor": 2
}
