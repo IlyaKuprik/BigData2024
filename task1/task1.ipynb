{
 "cells": [
  {
   "cell_type": "markdown",
   "metadata": {},
   "source": [
    "### Создание бинарного файла"
   ]
  },
  {
   "cell_type": "code",
   "execution_count": 1,
   "metadata": {},
   "outputs": [],
   "source": [
    "import os\n",
    "import random\n",
    "import struct\n",
    "\n",
    "def create_binary_file(file_name, size_gb):\n",
    "    size_bytes = size_gb * 1024**3\n",
    "    count = size_bytes // 4  # Число 32-разрядных чисел в файле\n",
    "\n",
    "    with open(file_name, 'wb') as f:\n",
    "        for _ in range(count):\n",
    "            num = random.getrandbits(32) \n",
    "            f.write(struct.pack('>I', num))\n",
    "\n",
    "create_binary_file('random_numbers.bin', 2)"
   ]
  },
  {
   "cell_type": "markdown",
   "metadata": {},
   "source": [
    "Создание бинарного файла заняло ~1 минуту 16 секунд."
   ]
  },
  {
   "cell_type": "markdown",
   "metadata": {},
   "source": [
    "### Последовательное чтение"
   ]
  },
  {
   "cell_type": "code",
   "execution_count": 2,
   "metadata": {},
   "outputs": [
    {
     "name": "stdout",
     "output_type": "stream",
     "text": [
      "Сумма: 1152929983093036970, Минимум: 5, Максимум: 4294967292\n"
     ]
    }
   ],
   "source": [
    "def analyze_binary_file(file_name):\n",
    "    min_num = float('inf')\n",
    "    max_num = float('-inf')\n",
    "    total_sum = 0\n",
    "    \n",
    "    with open(file_name, 'rb') as f:\n",
    "        while chunk := f.read(4):\n",
    "            (num,) = struct.unpack('>I', chunk)\n",
    "            min_num = min(min_num, num)\n",
    "            max_num = max(max_num, num)\n",
    "            total_sum += num\n",
    "    \n",
    "    return total_sum, min_num, max_num\n",
    "\n",
    "# Анализируем созданный файл\n",
    "total_sum, min_num, max_num = analyze_binary_file('random_numbers.bin')\n",
    "print(f'Сумма: {total_sum}, Минимум: {min_num}, Максимум: {max_num}')"
   ]
  },
  {
   "cell_type": "markdown",
   "metadata": {},
   "source": [
    "Последовательное чтение из файла заняло около **~2 минуты 35 секунд**.\n",
    "Интересно, что максимальное число в файле отличеатся от абсолютного максимума для 32 разрядного числа всего на **4**."
   ]
  },
  {
   "cell_type": "markdown",
   "metadata": {},
   "source": [
    "### Параллельное чтение"
   ]
  },
  {
   "cell_type": "code",
   "execution_count": 3,
   "metadata": {},
   "outputs": [
    {
     "name": "stdout",
     "output_type": "stream",
     "text": [
      "Сумма: 1152929983093036970, Минимум: 5, Максимум: 4294967292\n"
     ]
    }
   ],
   "source": [
    "import mmap\n",
    "import concurrent.futures\n",
    "\n",
    "def process_chunk(start, size, file_name):\n",
    "    min_num = float('inf')\n",
    "    max_num = float('-inf')\n",
    "    total_sum = 0\n",
    "    \n",
    "    with open(file_name, 'rb') as f:\n",
    "        mmapped_file = mmap.mmap(f.fileno(), length=size, offset=start, access=mmap.ACCESS_READ)\n",
    "        \n",
    "        for i in range(0, size, 4):\n",
    "            (num,) = struct.unpack('>I', mmapped_file[i:i+4])\n",
    "            min_num = min(min_num, num)\n",
    "            max_num = max(max_num, num)\n",
    "            total_sum += num\n",
    "        \n",
    "        mmapped_file.close()\n",
    "    \n",
    "    return total_sum, min_num, max_num\n",
    "\n",
    "def analyze_binary_file_multithreaded(file_name, num_threads=8):\n",
    "    file_size = os.path.getsize(file_name)\n",
    "    chunk_size = file_size // num_threads\n",
    "    \n",
    "    with concurrent.futures.ThreadPoolExecutor(max_workers=num_threads) as executor:\n",
    "        futures = [\n",
    "            executor.submit(process_chunk, i * chunk_size,\n",
    "                            chunk_size if i != num_threads - 1 else file_size - i * chunk_size,\n",
    "                            file_name)\n",
    "            for i in range(num_threads)\n",
    "        ]\n",
    "        \n",
    "        total_sum, min_num, max_num = 0, float('inf'), float('-inf')\n",
    "        for future in concurrent.futures.as_completed(futures):\n",
    "            ts, mn, mx = future.result()\n",
    "            total_sum += ts\n",
    "            min_num = min(min_num, mn)\n",
    "            max_num = max(max_num, mx)\n",
    "    \n",
    "    return total_sum, min_num, max_num\n",
    "\n",
    "\n",
    "total_sum_mt, min_num_mt, max_num_mt = analyze_binary_file_multithreaded('random_numbers.bin')\n",
    "print(f'Сумма: {total_sum_mt}, Минимум: {min_num_mt}, Максимум: {max_num_mt}')"
   ]
  },
  {
   "cell_type": "markdown",
   "metadata": {},
   "source": [
    "Считывание в 8 поток занло 2 минуты 12 секунд."
   ]
  },
  {
   "cell_type": "code",
   "execution_count": 4,
   "metadata": {},
   "outputs": [
    {
     "name": "stdout",
     "output_type": "stream",
     "text": [
      "\tСумма: 1152929983093036970, Минимум: 5, Максимум: 4294967292\n",
      "Многопоточное чтение с количеством потоков, равным 8, заняло 131.78 секунд\n",
      "\tСумма: 1152929983093036970, Минимум: 5, Максимум: 4294967292\n",
      "Многопоточное чтение с количеством потоков, равным 12, заняло 127.16 секунд\n",
      "\tСумма: 1152929983093036970, Минимум: 5, Максимум: 4294967292\n",
      "Многопоточное чтение с количеством потоков, равным 16, заняло 126.25 секунд\n",
      "\tСумма: 1152929983093036970, Минимум: 5, Максимум: 4294967292\n",
      "Многопоточное чтение с количеством потоков, равным 20, заняло 127.00 секунд\n",
      "\tСумма: 1152929983093036970, Минимум: 5, Максимум: 4294967292\n",
      "Многопоточное чтение с количеством потоков, равным 24, заняло 127.21 секунд\n"
     ]
    }
   ],
   "source": [
    "import time\n",
    "\n",
    "for threads_num in range(8, 33, 4):\n",
    "    start_time = time.time()\n",
    "    total_sum_mt, min_num_mt, max_num_mt = analyze_binary_file_multithreaded('random_numbers.bin')\n",
    "    end_time = time.time()\n",
    "    print(f'\\tСумма: {total_sum_mt}, Минимум: {min_num_mt}, Максимум: {max_num_mt}')\n",
    "    print(f'Многопоточное чтение с количеством потоков, равным {threads_num}, заняло {end_time - start_time:.2f} секунд')"
   ]
  },
  {
   "cell_type": "markdown",
   "metadata": {},
   "source": [
    "На питоне разница не сильно заметна. Помимо питона я решил попробовать использовать с++. Файл multiprocess_reading.cpp запускается командами:\n",
    "\n",
    "```\n",
    "g++ multiprocess_reading.cpp -o main -std=c++11 -stdlib=libc++ && ./main \n",
    "```\n",
    "\n",
    "Программа выводит ответ \n",
    "\n",
    "```\n",
    "Последовательное чтение заняло 10 секунд\n",
    "Сумма: 1152929983093036970, Минимум: 5, Максимум: 4294967292\n",
    "Многопоточное чтение заняло 1 секунд\n",
    "Сумма: 1152929983093036970, Минимум: 5, Максимум: 4294967292\n",
    "```\n",
    "Некоторые выводы:\n",
    "\n",
    "* Тоесть последовательное чтение на с++ в 13 раз быстрее чем последовательное чтение на python.\n",
    "* Многопоточное чтение на c++ в 10 раз быстрее чем последовательное на c++.\n",
    "* И наконец, многопоточное чтение на c++ в 130 раз быстрее чам последоавтальное на python :)"
   ]
  }
 ],
 "metadata": {
  "kernelspec": {
   "display_name": "Python 3",
   "language": "python",
   "name": "python3"
  },
  "language_info": {
   "codemirror_mode": {
    "name": "ipython",
    "version": 3
   },
   "file_extension": ".py",
   "mimetype": "text/x-python",
   "name": "python",
   "nbconvert_exporter": "python",
   "pygments_lexer": "ipython3",
   "version": "3.11.2"
  }
 },
 "nbformat": 4,
 "nbformat_minor": 2
}
